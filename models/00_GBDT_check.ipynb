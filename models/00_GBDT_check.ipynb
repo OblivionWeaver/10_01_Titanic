{
 "cells": [
  {
   "cell_type": "code",
   "execution_count": 20,
   "metadata": {},
   "outputs": [],
   "source": [
    "import sys,os\n",
    "import pandas as pd\n",
    "import numpy as np\n",
    "from time import time\n",
    "\n",
    "#GBDTModel\n",
    "from sklearn.ensemble import GradientBoostingClassifier\n",
    "from sklearn.model_selection import cross_val_score,RepeatedStratifiedKFold\n",
    "from sklearn.experimental import enable_hist_gradient_boosting\n",
    "from sklearn.ensemble import HistGradientBoostingClassifier\n",
    "from xgboost import XGBClassifier\n",
    "from lightgbm import LGBMClassifier\n",
    "from catboost import CatBoostClassifier\n",
    "%precision 3\n",
    "\n",
    "\n",
    "SEED = 42\n"
   ]
  },
  {
   "cell_type": "code",
   "execution_count": 2,
   "metadata": {},
   "outputs": [
    {
     "data": {
      "text/plain": [
       "Index(['PassengerId', 'Perished', 'Pclass', 'Name', 'Sex', 'Age', 'SibSp',\n",
       "       'Parch', 'Ticket', 'Fare', 'Cabin', 'Embarked', 'FamilySize', 'IsAlone',\n",
       "       'Title', 'FareBin', 'Sex_Code', 'Embarked_Code', 'Title_Code',\n",
       "       'FareBin_Code', 'AgeBin', 'Age_Code'],\n",
       "      dtype='object')"
      ]
     },
     "execution_count": 2,
     "metadata": {},
     "output_type": "execute_result"
    }
   ],
   "source": [
    "df_train = pd.read_csv(\"./df/EDA_09_GBDT_train.csv\")\n",
    "df_test = pd.read_csv(\"./df/EDA_09_GBDT_test.csv\")\n",
    "Target = 'Perished'\n",
    "data_cleaner = [df_train, df_test]\n",
    "df_train.columns\n"
   ]
  },
  {
   "cell_type": "code",
   "execution_count": 3,
   "metadata": {},
   "outputs": [],
   "source": [
    "for dataset in data_cleaner:\n",
    "    dataset = dataset.drop(columns=[\"Name\", \"Sex\", \"Age\", \"IsAlone\", \"Ticket\", \"SibSp\", \"Parch\",\n",
    "                           \"FareBin_Code\", \"Cabin\", \"Embarked\", \"Title\", \"FareBin\", \"AgeBin\"], inplace=True)\n"
   ]
  },
  {
   "cell_type": "code",
   "execution_count": 4,
   "metadata": {},
   "outputs": [],
   "source": [
    "USE_Columns =df_train.columns\n",
    "X = df_train.iloc[:, 2:].values\n",
    "y = df_train.iloc[:, 1].values\n",
    "X_test = df_test.iloc[:, 1:]\n"
   ]
  },
  {
   "cell_type": "code",
   "execution_count": 5,
   "metadata": {},
   "outputs": [],
   "source": [
    "accuracy = {}\n",
    "speed = {}"
   ]
  },
  {
   "cell_type": "code",
   "execution_count": 8,
   "metadata": {},
   "outputs": [
    {
     "name": "stdout",
     "output_type": "stream",
     "text": [
      "Mean Accuracy: 0.825\n",
      "Std: 0.022\n",
      "Run time: 6.887s\n"
     ]
    }
   ],
   "source": [
    "model = GradientBoostingClassifier()\n",
    "name = \"GradientBoosting\"\n",
    "start = time()\n",
    "cv = RepeatedStratifiedKFold(n_splits=5,n_repeats=3,random_state=SEED)\n",
    "score = cross_val_score(model,X,y,scoring=\"accuracy\",cv=cv,n_jobs=-1)\n",
    "speed[name] = np.round(time()-start,3)\n",
    "accuracy[name] = np.mean(score).round(3)\n",
    "print(\n",
    "    f\"Mean Accuracy: {accuracy[name]}\\nStd: {np.std(score):.3f}\\nRun time: {speed[name]}s\"\n",
    ")"
   ]
  },
  {
   "cell_type": "code",
   "execution_count": 14,
   "metadata": {},
   "outputs": [
    {
     "name": "stdout",
     "output_type": "stream",
     "text": [
      "Model:{name}\n",
      "\n",
      "Mean Accuracy: 0.827\n",
      "Std: 0.025\n",
      "Run time: 13.123s\n"
     ]
    }
   ],
   "source": [
    "model = HistGradientBoostingClassifier()\n",
    "name = \"HistGradientBoostingClassifier\"\n",
    "start = time()\n",
    "cv = RepeatedStratifiedKFold(n_splits=5, n_repeats=3, random_state=SEED)\n",
    "score = cross_val_score(model, X, y, scoring=\"accuracy\", cv=cv, n_jobs=-1)\n",
    "speed[name] = np.round(time()-start, 3)\n",
    "accuracy[name] = np.mean(score).round(3)\n",
    "print(\"Model:{name}\\n\")\n",
    "print(\n",
    "    f\"Mean Accuracy: {accuracy[name]}\\nStd: {np.std(score):.3f}\\nRun time: {speed[name]}s\"\n",
    ")\n"
   ]
  },
  {
   "cell_type": "code",
   "execution_count": 16,
   "metadata": {},
   "outputs": [
    {
     "name": "stdout",
     "output_type": "stream",
     "text": [
      "Model:XGBClassifier\n",
      "\n",
      "Mean Accuracy: 0.826\n",
      "Std: 0.019\n",
      "Run time: 2.416s\n"
     ]
    }
   ],
   "source": [
    "model = XGBClassifier()\n",
    "name = \"XGBClassifier\"\n",
    "start = time()\n",
    "cv = RepeatedStratifiedKFold(n_splits=5, n_repeats=3, random_state=SEED)\n",
    "score = cross_val_score(model, X, y, scoring=\"accuracy\", cv=cv, n_jobs=-1)\n",
    "speed[name] = np.round(time()-start, 3)\n",
    "accuracy[name] = np.mean(score).round(3)\n",
    "print(\"Model:{}\\n\".format(name))\n",
    "print(\n",
    "    f\"Mean Accuracy: {accuracy[name]}\\nStd: {np.std(score):.3f}\\nRun time: {speed[name]}s\"\n",
    ")\n"
   ]
  },
  {
   "cell_type": "code",
   "execution_count": 18,
   "metadata": {},
   "outputs": [
    {
     "name": "stdout",
     "output_type": "stream",
     "text": [
      "Model:LGBMClassifier\n",
      "\n",
      "Mean Accuracy: 0.826\n",
      "Std: 0.024\n",
      "Run time: 3.351s\n"
     ]
    }
   ],
   "source": [
    "model = LGBMClassifier()\n",
    "name = \"LGBMClassifier\"\n",
    "start = time()\n",
    "cv = RepeatedStratifiedKFold(n_splits=5, n_repeats=3, random_state=SEED)\n",
    "score = cross_val_score(model, X, y, scoring=\"accuracy\", cv=cv, n_jobs=-1)\n",
    "speed[name] = np.round(time()-start, 3)\n",
    "accuracy[name] = np.mean(score).round(3)\n",
    "print(\"Model:{}\\n\".format(name))\n",
    "print(\n",
    "    f\"Mean Accuracy: {accuracy[name]}\\nStd: {np.std(score):.3f}\\nRun time: {speed[name]}s\"\n",
    ")\n"
   ]
  },
  {
   "cell_type": "code",
   "execution_count": 21,
   "metadata": {},
   "outputs": [
    {
     "name": "stdout",
     "output_type": "stream",
     "text": [
      "Model:CatBoostClassifier\n",
      "\n",
      "Mean Accuracy: 0.822\n",
      "Std: 0.025\n",
      "Run time: 20.488s\n"
     ]
    }
   ],
   "source": [
    "model = CatBoostClassifier()\n",
    "name = \"CatBoostClassifier\"\n",
    "start = time()\n",
    "cv = RepeatedStratifiedKFold(n_splits=5, n_repeats=3, random_state=SEED)\n",
    "score = cross_val_score(model, X, y, scoring=\"accuracy\", cv=cv, n_jobs=-1)\n",
    "speed[name] = np.round(time()-start, 3)\n",
    "accuracy[name] = np.mean(score).round(3)\n",
    "print(\"Model:{}\\n\".format(name))\n",
    "print(\n",
    "    f\"Mean Accuracy: {accuracy[name]}\\nStd: {np.std(score):.3f}\\nRun time: {speed[name]}s\"\n",
    ")\n"
   ]
  },
  {
   "cell_type": "code",
   "execution_count": 22,
   "metadata": {},
   "outputs": [
    {
     "data": {
      "text/plain": [
       "{'GradientBoosting': 0.825,\n",
       " 'HistGradientBoostingClassifier': 0.827,\n",
       " 'XGBClassifier': 0.826,\n",
       " 'LGBMClassifier': 0.826,\n",
       " 'CatBoostClassifier': 0.822}"
      ]
     },
     "execution_count": 22,
     "metadata": {},
     "output_type": "execute_result"
    }
   ],
   "source": [
    "accuracy"
   ]
  },
  {
   "cell_type": "code",
   "execution_count": null,
   "metadata": {},
   "outputs": [],
   "source": []
  }
 ],
 "metadata": {
  "interpreter": {
   "hash": "68ea084522a32e1c5efebe8e26724b4feaefc93bc2807a5a214dcc5b0260bfd6"
  },
  "kernelspec": {
   "display_name": "Python 3.9.2 64-bit",
   "language": "python",
   "name": "python3"
  },
  "language_info": {
   "codemirror_mode": {
    "name": "ipython",
    "version": 3
   },
   "file_extension": ".py",
   "mimetype": "text/x-python",
   "name": "python",
   "nbconvert_exporter": "python",
   "pygments_lexer": "ipython3",
   "version": "3.9.2"
  },
  "orig_nbformat": 4
 },
 "nbformat": 4,
 "nbformat_minor": 2
}
