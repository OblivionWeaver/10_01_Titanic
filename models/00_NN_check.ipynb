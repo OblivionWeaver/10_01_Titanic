{
 "cells": [
  {
   "cell_type": "code",
   "execution_count": 2,
   "metadata": {},
   "outputs": [
    {
     "data": {
      "text/plain": [
       "'%.4f'"
      ]
     },
     "execution_count": 2,
     "metadata": {},
     "output_type": "execute_result"
    }
   ],
   "source": [
    "import sys\n",
    "import os\n",
    "import pandas as pd\n",
    "import numpy as np\n",
    "from time import time\n",
    "\n",
    "#Model\n",
    "from sklearn.neural_network import MLPClassifier\n",
    "from sklearn.model_selection import cross_val_score, RepeatedStratifiedKFold\n",
    "\n",
    "SEED = 42\n",
    "%precision 4\n"
   ]
  },
  {
   "cell_type": "code",
   "execution_count": 3,
   "metadata": {},
   "outputs": [
    {
     "data": {
      "text/plain": [
       "Index(['PassengerId', 'Perished', 'Pclass', 'Name', 'Sex', 'Age', 'SibSp',\n",
       "       'Parch', 'Ticket', 'Fare', 'Cabin', 'FamilySize', 'IsAlone', 'Title',\n",
       "       'FareBin', 'Sex_Code', 'Embarked_Code', 'Title_Code', 'FareBin_Code',\n",
       "       'AgeBin', 'Age_Code', 'Embarked_C', 'Embarked_Q', 'Embarked_S'],\n",
       "      dtype='object')"
      ]
     },
     "execution_count": 3,
     "metadata": {},
     "output_type": "execute_result"
    }
   ],
   "source": [
    "df_train = pd.read_csv(\"./df/EDA_09_MLP_train.csv\")\n",
    "df_test = pd.read_csv(\"./df/EDA_09_MLP_test.csv\")\n",
    "Target = 'Perished'\n",
    "data_cleaner = [df_train, df_test]\n",
    "df_train.columns\n"
   ]
  },
  {
   "cell_type": "code",
   "execution_count": 4,
   "metadata": {},
   "outputs": [
    {
     "data": {
      "text/plain": [
       "PassengerId        0\n",
       "Pclass             0\n",
       "Name               0\n",
       "Sex                0\n",
       "Age                0\n",
       "SibSp              0\n",
       "Parch              0\n",
       "Ticket             0\n",
       "Fare               0\n",
       "Cabin            327\n",
       "FamilySize         0\n",
       "IsAlone            0\n",
       "Title              0\n",
       "FareBin            1\n",
       "Sex_Code           0\n",
       "Embarked_Code      0\n",
       "Title_Code         0\n",
       "FareBin_Code       0\n",
       "AgeBin             0\n",
       "Age_Code           0\n",
       "Embarked_C         0\n",
       "Embarked_Q         0\n",
       "Embarked_S         0\n",
       "dtype: int64"
      ]
     },
     "execution_count": 4,
     "metadata": {},
     "output_type": "execute_result"
    }
   ],
   "source": [
    "df_test.isnull().sum()"
   ]
  },
  {
   "cell_type": "code",
   "execution_count": 5,
   "metadata": {},
   "outputs": [],
   "source": [
    "for dataset in data_cleaner:\n",
    "    dataset = dataset.drop(columns=[\"Name\", \"Sex\", \"Age\", \"IsAlone\", \"Ticket\", \"SibSp\", \"Parch\",\n",
    "                           \"FareBin_Code\", \"Cabin\", \"Title\", \"FareBin\", \"AgeBin\"], inplace=True)\n"
   ]
  },
  {
   "cell_type": "code",
   "execution_count": 10,
   "metadata": {},
   "outputs": [],
   "source": [
    "USE_Columns = df_train.columns\n",
    "X = df_train.iloc[:, 2:].values\n",
    "y = df_train.iloc[:, 1].values\n",
    "X_test = df_test.iloc[:, 1:].values"
   ]
  },
  {
   "cell_type": "code",
   "execution_count": 11,
   "metadata": {},
   "outputs": [
    {
     "data": {
      "text/plain": [
       "array([[ 3.    ,  7.8292,  1.    , ...,  0.    ,  1.    ,  0.    ],\n",
       "       [ 3.    ,  7.    ,  2.    , ...,  0.    ,  0.    ,  1.    ],\n",
       "       [ 2.    ,  9.6875,  1.    , ...,  0.    ,  1.    ,  0.    ],\n",
       "       ...,\n",
       "       [ 3.    ,  7.25  ,  1.    , ...,  0.    ,  0.    ,  1.    ],\n",
       "       [ 3.    ,  8.05  ,  1.    , ...,  0.    ,  0.    ,  1.    ],\n",
       "       [ 3.    , 22.3583,  3.    , ...,  1.    ,  0.    ,  0.    ]])"
      ]
     },
     "execution_count": 11,
     "metadata": {},
     "output_type": "execute_result"
    }
   ],
   "source": [
    "X_test"
   ]
  },
  {
   "cell_type": "code",
   "execution_count": 12,
   "metadata": {},
   "outputs": [],
   "source": [
    "accuracy = {}\n",
    "speed = {}\n"
   ]
  },
  {
   "cell_type": "code",
   "execution_count": 13,
   "metadata": {},
   "outputs": [
    {
     "name": "stdout",
     "output_type": "stream",
     "text": [
      "Mean Accuracy: 0.791\n",
      "Std: 0.026\n",
      "Run time: 6.505s\n"
     ]
    }
   ],
   "source": [
    "model = MLPClassifier()\n",
    "name = \"MLPClassifier\"\n",
    "start = time()\n",
    "cv = RepeatedStratifiedKFold(n_splits=5, n_repeats=5, random_state=SEED)\n",
    "score = cross_val_score(model, X, y, scoring=\"accuracy\", cv=cv, n_jobs=-1)\n",
    "speed[name] = np.round(time()-start, 3)\n",
    "accuracy[name] = np.mean(score).round(3)\n",
    "print(\n",
    "    f\"Mean Accuracy: {accuracy[name]}\\nStd: {np.std(score):.3f}\\nRun time: {speed[name]}s\"\n",
    ")\n"
   ]
  },
  {
   "cell_type": "code",
   "execution_count": null,
   "metadata": {},
   "outputs": [],
   "source": [
    "model.predict(X_test)"
   ]
  },
  {
   "cell_type": "code",
   "execution_count": null,
   "metadata": {},
   "outputs": [],
   "source": []
  }
 ],
 "metadata": {
  "interpreter": {
   "hash": "68ea084522a32e1c5efebe8e26724b4feaefc93bc2807a5a214dcc5b0260bfd6"
  },
  "kernelspec": {
   "display_name": "Python 3.9.2 64-bit",
   "language": "python",
   "name": "python3"
  },
  "language_info": {
   "codemirror_mode": {
    "name": "ipython",
    "version": 3
   },
   "file_extension": ".py",
   "mimetype": "text/x-python",
   "name": "python",
   "nbconvert_exporter": "python",
   "pygments_lexer": "ipython3",
   "version": "3.9.2"
  },
  "orig_nbformat": 4
 },
 "nbformat": 4,
 "nbformat_minor": 2
}
