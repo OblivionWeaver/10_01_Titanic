{
 "cells": [
  {
   "cell_type": "code",
   "execution_count": 1,
   "metadata": {},
   "outputs": [
    {
     "name": "stdout",
     "output_type": "stream",
     "text": [
      "----------------------------------------\n",
      "Python version: 3.9.2 (tags/v3.9.2:1a79785, Feb 19 2021, 13:44:55) [MSC v.1928 64 bit (AMD64)]\n",
      "pandas version: 1.3.2\n",
      "matplotlib version: 3.4.3\n",
      "NumPy version: 1.22.4\n",
      "scikit-learn version: 0.24.2\n",
      "----------------------------------------\n"
     ]
    }
   ],
   "source": [
    "#Sytem\n",
    "import sys,os\n",
    "import datetime\n",
    "import numpy as np\n",
    "import pandas as pd\n",
    "import warnings\n",
    "import time\n",
    "import pprint\n",
    "import random\n",
    "import IPython\n",
    "warnings.filterwarnings('ignore')\n",
    "\n",
    "#Visualidation\n",
    "import sweetviz as sv\n",
    "import matplotlib.pyplot as plt\n",
    "import matplotlib\n",
    "%matplotlib inline\n",
    "\n",
    "#EDA\n",
    "import sweetviz as sv\n",
    "import sklearn\n",
    "from sklearn.preprocessing import OneHotEncoder, LabelEncoder\n",
    "\n",
    "\n",
    "\n",
    "#model\n",
    "from sklearn.model_selection import train_test_split,RandomizedSearchCV,GridSearchCV\n",
    "from skopt import BayesSearchCV\n",
    "import xgboost as xgb\n",
    "from xgboost import XGBClassifier\n",
    "\n",
    "\n",
    "\n",
    "\n",
    "print('-'*40)\n",
    "\n",
    "print(\"Python version: {}\". format(sys.version))\n",
    "\n",
    "print(\"pandas version: {}\". format(pd.__version__))\n",
    "\n",
    "print(\"matplotlib version: {}\". format(matplotlib.__version__))\n",
    "\n",
    "print(\"NumPy version: {}\". format(np.__version__))\n",
    "\n",
    "\n",
    "print(\"scikit-learn version: {}\". format(sklearn.__version__))\n",
    "print('-'*40)\n",
    "\n",
    "#Info\n",
    "Target = \"Perished\"\n",
    "PATH_Train = '../data/input/train_beta.csv'\n",
    "PATH_Test = '../data/input/test_beta.csv'\n",
    "PATH_Sample = '../data/input/gender_submission.csv'\n",
    "PATH_LOG = \"../logs/log.csv\"\n",
    "ID = 12\n",
    "SEED = 42"
   ]
  },
  {
   "cell_type": "code",
   "execution_count": 2,
   "metadata": {},
   "outputs": [
    {
     "name": "stdout",
     "output_type": "stream",
     "text": [
      "-------------------------\n",
      "Shape of Train Data\n",
      "[row :891,column :22]\n",
      "-------------------------\n",
      "Shape of Test Data\n",
      "[row :418,column :22]\n",
      "-------------------------\n"
     ]
    }
   ],
   "source": [
    "df_train = pd.read_csv(PATH_Train)\n",
    "df_test = pd.read_csv(PATH_Test)\n",
    "sample = pd.read_csv(PATH_Sample)\n",
    "data = pd.concat([df_train,df_test],sort=False)\n",
    "print('-'*25)\n",
    "print(\"Shape of Train Data\\n[row :{},column :{}]\".format(\n",
    "    df_train.shape[0], df_train.shape[1]))\n",
    "print('-'*25)\n",
    "print(\"Shape of Test Data\\n[row :{},column :{}]\".format(\n",
    "    df_test.shape[0], df_test.shape[1]))\n",
    "print('-'*25)\n"
   ]
  },
  {
   "cell_type": "code",
   "execution_count": 7,
   "metadata": {},
   "outputs": [
    {
     "data": {
      "text/plain": [
       "Index(['PassengerId', 'Perished', 'Pclass', 'Name', 'Sex', 'Age', 'SibSp',\n",
       "       'Parch', 'Ticket', 'Fare', 'Cabin', 'Embarked', 'Title', 'FareBin',\n",
       "       'Fare_Code', 'Family', 'Age_Code', 'Embarked_Code', 'Title_Code', 'C',\n",
       "       'Q', 'S'],\n",
       "      dtype='object')"
      ]
     },
     "execution_count": 7,
     "metadata": {},
     "output_type": "execute_result"
    }
   ],
   "source": [
    "data.columns"
   ]
  },
  {
   "cell_type": "code",
   "execution_count": 4,
   "metadata": {},
   "outputs": [
    {
     "name": "stdout",
     "output_type": "stream",
     "text": [
      "['PassengerId',\n",
      " 'Perished',\n",
      " 'Pclass',\n",
      " 'Sex',\n",
      " 'Age',\n",
      " 'SibSp',\n",
      " 'Parch',\n",
      " 'Fare',\n",
      " 'Age_Code',\n",
      " 'C',\n",
      " 'Q',\n",
      " 'S']\n"
     ]
    }
   ],
   "source": [
    "drop_columns = [\"Name\",\"Ticket\",\"Cabin\",\"Embarked\",\"Title\",'FareBin',\"Fare_Code\",\"Title_Code\",\"Family\",\"Embarked_Code\"]\n",
    "dataset = data.drop(columns=drop_columns)\n",
    "train = dataset[:len(df_train)]\n",
    "test = dataset[len(df_train):]\n",
    "pprint.pprint(dataset.columns.tolist())"
   ]
  },
  {
   "cell_type": "code",
   "execution_count": 5,
   "metadata": {},
   "outputs": [],
   "source": [
    "X = train.iloc[:, 2:].values\n",
    "y = train.iloc[:, 1].values\n",
    "X_test = test.iloc[:, 2:].values\n",
    "X_train, X_valid, y_train, y_valid = train_test_split(X, y, test_size=0.2, random_state=SEED)"
   ]
  },
  {
   "cell_type": "code",
   "execution_count": 6,
   "metadata": {},
   "outputs": [
    {
     "name": "stdout",
     "output_type": "stream",
     "text": [
      "Train Score: 0.8919\n",
      " Valid Score: 0.8156\n"
     ]
    }
   ],
   "source": [
    "Search = \"x\"\n",
    "bestparam = \"x\"\n",
    "CV = \"x\"\n",
    "Modelname = \"XGB\"\n",
    "base_model = XGBClassifier(n_estimators = 10, random_state = SEED)\n",
    "base_model.fit(X_train, y_train)\n",
    "print('Train Score: {}'.format(round(base_model.score(X_train, y_train), 4)))\n",
    "print(' Valid Score: {}'.format(round(base_model.score(X_valid, y_valid), 4)))\n",
    "STrain = base_model.score(X_train,y_train)\n",
    "SValid = base_model.score(X_valid,y_valid)"
   ]
  },
  {
   "cell_type": "code",
   "execution_count": 7,
   "metadata": {},
   "outputs": [
    {
     "name": "stdout",
     "output_type": "stream",
     "text": [
      "{'n_estimators': [200, 400, 600, 800, 1000, 1200, 1400, 1600, 1800, 2000], 'max_depth': [10], 'min_samples_split': [2, 5, 10], 'min_samples_leaf': [1, 2, 4], 'max_features': ['auto', 'sqrt']}\n"
     ]
    }
   ],
   "source": [
    "Modelname = \"XGB\"\n",
    "model = XGBClassifier(random_state=SEED)\n",
    "CV = 5\n",
    "n_estimators = [int(x) for x in np.linspace(start = 200, stop = 2000, num = 10)]\n",
    "max_features = ['auto', 'sqrt']\n",
    "max_depth = [int(x) for x in np.linspace(10, 110, num = 11)]\n",
    "max_depth.append(None)\n",
    "min_samples_split = [2, 5, 10]\n",
    "min_samples_leaf = [1, 2, 4]\n",
    "param_grid = {\n",
    "    'n_estimators':n_estimators,\n",
    "    'max_depth':[10],\n",
    "    'min_samples_split':min_samples_split,\n",
    "    'min_samples_leaf':min_samples_leaf,\n",
    "    'max_features':max_features,\n",
    "}\n",
    "print(param_grid)"
   ]
  },
  {
   "cell_type": "code",
   "execution_count": 8,
   "metadata": {},
   "outputs": [
    {
     "name": "stdout",
     "output_type": "stream",
     "text": [
      "Fitting 5 folds for each of 180 candidates, totalling 900 fits\n"
     ]
    }
   ],
   "source": [
    "Search = \"GS\"\n",
    "model_cv = GridSearchCV(estimator=model,param_grid=param_grid,scoring='accuracy',cv=CV,verbose=2,n_jobs=-1)\n",
    "model_cv.fit(X_train,y_train)\n",
    "bestparam = str(model_cv.best_params_)"
   ]
  },
  {
   "cell_type": "code",
   "execution_count": null,
   "metadata": {},
   "outputs": [],
   "source": [
    "Search = \"RS\"\n",
    "model_cv = RandomizedSearchCV(estimator=model,param_distributions=param_grid,n_iter=100,cv=CV,verbose=1,random_state=SEED,n_jobs=-1)\n",
    "model_cv.fit(X_train,y_train)\n",
    "bestparam = str(model_cv.best_params_)"
   ]
  },
  {
   "cell_type": "code",
   "execution_count": null,
   "metadata": {},
   "outputs": [],
   "source": [
    "Search = \"BS\"\n",
    "model_cv= BayesSearchCV(estimator=model,search_spaces=param_grid,n_iter=100,cv=CV,verbose =2)\n",
    "model_cv.fit(X_train,y_train)\n",
    "bestparam = str(model_cv.best_params_)"
   ]
  },
  {
   "cell_type": "code",
   "execution_count": null,
   "metadata": {},
   "outputs": [],
   "source": [
    "best_model = model_cv.best_estimator_\n",
    "print(best_model)\n",
    "bestparam = str(model_cv.best_params_)\n",
    "STrain = best_model.score(X_train, y_train)\n",
    "SValid  = best_model.score(X_valid, y_valid)\n",
    "print('Train Score: {}'.format(STrain))\n",
    "print(' Valid Score: {}'.format(SValid))"
   ]
  },
  {
   "cell_type": "code",
   "execution_count": null,
   "metadata": {},
   "outputs": [],
   "source": [
    "log = pd.read_csv(PATH_LOG)\n",
    "Row  =  len(log)\n",
    "log.loc[Row] = \"x\"\n",
    "log.loc[Row,\"Modelname\"] = Modelname\n",
    "log.loc[Row,\"Search\"] = Search\n",
    "log.loc[Row,\"Vestparams\"] = bestparam\n",
    "log.loc[Row,\"CV\"] = CV\n",
    "log.loc[Row,\"STrain\"] = STrain\n",
    "log.loc[Row,\"SValid\"] = SValid\n",
    "log.loc[Row,\"Age_Code_N\"] = 3\n",
    "use_columns = test.columns.drop([\"PassengerId\",\"Perished\"])\n",
    "for col in use_columns:\n",
    "    log.loc[Row,col] = \"o\"\n",
    "log.fillna(\"x\",inplace=True)\n",
    "# if PublicScore is knowed\n",
    "#log.loc[Row,\"SPublic\"] = 0.791"
   ]
  },
  {
   "cell_type": "code",
   "execution_count": null,
   "metadata": {},
   "outputs": [
    {
     "data": {
      "text/html": [
       "<div>\n",
       "<style scoped>\n",
       "    .dataframe tbody tr th:only-of-type {\n",
       "        vertical-align: middle;\n",
       "    }\n",
       "\n",
       "    .dataframe tbody tr th {\n",
       "        vertical-align: top;\n",
       "    }\n",
       "\n",
       "    .dataframe thead th {\n",
       "        text-align: right;\n",
       "    }\n",
       "</style>\n",
       "<table border=\"1\" class=\"dataframe\">\n",
       "  <thead>\n",
       "    <tr style=\"text-align: right;\">\n",
       "      <th></th>\n",
       "      <th>Modelname</th>\n",
       "      <th>STrain</th>\n",
       "      <th>SValid</th>\n",
       "      <th>Pclass</th>\n",
       "      <th>Sex</th>\n",
       "      <th>Age</th>\n",
       "      <th>SibSp</th>\n",
       "      <th>Parch</th>\n",
       "      <th>Fare</th>\n",
       "      <th>C</th>\n",
       "      <th>...</th>\n",
       "      <th>Title_Code</th>\n",
       "      <th>Embarked_Code</th>\n",
       "      <th>Search</th>\n",
       "      <th>CV</th>\n",
       "      <th>Bestparams</th>\n",
       "      <th>Title</th>\n",
       "      <th>FareBin</th>\n",
       "      <th>Fare_Code</th>\n",
       "      <th>Vestparams</th>\n",
       "      <th>Family</th>\n",
       "    </tr>\n",
       "  </thead>\n",
       "  <tbody>\n",
       "    <tr>\n",
       "      <th>56</th>\n",
       "      <td>ETC</td>\n",
       "      <td>0.8567415730337079</td>\n",
       "      <td>0.8212290502793296</td>\n",
       "      <td>o</td>\n",
       "      <td>o</td>\n",
       "      <td>o</td>\n",
       "      <td>o</td>\n",
       "      <td>o</td>\n",
       "      <td>o</td>\n",
       "      <td>x</td>\n",
       "      <td>...</td>\n",
       "      <td>o</td>\n",
       "      <td>o</td>\n",
       "      <td>BS</td>\n",
       "      <td>5</td>\n",
       "      <td>x</td>\n",
       "      <td>x</td>\n",
       "      <td>x</td>\n",
       "      <td>o</td>\n",
       "      <td>OrderedDict([('max_depth', 40), ('max_features...</td>\n",
       "      <td>o</td>\n",
       "    </tr>\n",
       "    <tr>\n",
       "      <th>57</th>\n",
       "      <td>RFC</td>\n",
       "      <td>0.9691011235955056</td>\n",
       "      <td>0.7877094972067039</td>\n",
       "      <td>o</td>\n",
       "      <td>o</td>\n",
       "      <td>o</td>\n",
       "      <td>o</td>\n",
       "      <td>o</td>\n",
       "      <td>o</td>\n",
       "      <td>o</td>\n",
       "      <td>...</td>\n",
       "      <td>x</td>\n",
       "      <td>x</td>\n",
       "      <td>x</td>\n",
       "      <td>5</td>\n",
       "      <td>x</td>\n",
       "      <td>x</td>\n",
       "      <td>x</td>\n",
       "      <td>x</td>\n",
       "      <td>x</td>\n",
       "      <td>x</td>\n",
       "    </tr>\n",
       "    <tr>\n",
       "      <th>58</th>\n",
       "      <td>RFC</td>\n",
       "      <td>0.9171348314606742</td>\n",
       "      <td>0.8379888268156425</td>\n",
       "      <td>o</td>\n",
       "      <td>o</td>\n",
       "      <td>o</td>\n",
       "      <td>o</td>\n",
       "      <td>o</td>\n",
       "      <td>o</td>\n",
       "      <td>o</td>\n",
       "      <td>...</td>\n",
       "      <td>x</td>\n",
       "      <td>x</td>\n",
       "      <td>BS</td>\n",
       "      <td>5</td>\n",
       "      <td>x</td>\n",
       "      <td>x</td>\n",
       "      <td>x</td>\n",
       "      <td>x</td>\n",
       "      <td>OrderedDict([('max_depth', 10), ('max_features...</td>\n",
       "      <td>x</td>\n",
       "    </tr>\n",
       "    <tr>\n",
       "      <th>59</th>\n",
       "      <td>Ensemble</td>\n",
       "      <td>0.9932659932659933</td>\n",
       "      <td>0.9932659932659933</td>\n",
       "      <td>o</td>\n",
       "      <td>o</td>\n",
       "      <td>o</td>\n",
       "      <td>o</td>\n",
       "      <td>o</td>\n",
       "      <td>o</td>\n",
       "      <td>o</td>\n",
       "      <td>...</td>\n",
       "      <td>x</td>\n",
       "      <td>x</td>\n",
       "      <td>x</td>\n",
       "      <td>x</td>\n",
       "      <td>x</td>\n",
       "      <td>x</td>\n",
       "      <td>x</td>\n",
       "      <td>x</td>\n",
       "      <td>x</td>\n",
       "      <td>x</td>\n",
       "    </tr>\n",
       "    <tr>\n",
       "      <th>60</th>\n",
       "      <td>XGB</td>\n",
       "      <td>0.891854</td>\n",
       "      <td>0.815642</td>\n",
       "      <td>o</td>\n",
       "      <td>o</td>\n",
       "      <td>o</td>\n",
       "      <td>o</td>\n",
       "      <td>o</td>\n",
       "      <td>o</td>\n",
       "      <td>o</td>\n",
       "      <td>...</td>\n",
       "      <td>x</td>\n",
       "      <td>x</td>\n",
       "      <td>x</td>\n",
       "      <td>x</td>\n",
       "      <td>x</td>\n",
       "      <td>x</td>\n",
       "      <td>x</td>\n",
       "      <td>x</td>\n",
       "      <td>x</td>\n",
       "      <td>x</td>\n",
       "    </tr>\n",
       "  </tbody>\n",
       "</table>\n",
       "<p>5 rows × 29 columns</p>\n",
       "</div>"
      ],
      "text/plain": [
       "   Modelname              STrain              SValid Pclass Sex Age SibSp  \\\n",
       "56       ETC  0.8567415730337079  0.8212290502793296      o   o   o     o   \n",
       "57       RFC  0.9691011235955056  0.7877094972067039      o   o   o     o   \n",
       "58       RFC  0.9171348314606742  0.8379888268156425      o   o   o     o   \n",
       "59  Ensemble  0.9932659932659933  0.9932659932659933      o   o   o     o   \n",
       "60       XGB            0.891854            0.815642      o   o   o     o   \n",
       "\n",
       "   Parch Fare  C  ... Title_Code Embarked_Code Search CV Bestparams Title  \\\n",
       "56     o    o  x  ...          o             o     BS  5          x     x   \n",
       "57     o    o  o  ...          x             x      x  5          x     x   \n",
       "58     o    o  o  ...          x             x     BS  5          x     x   \n",
       "59     o    o  o  ...          x             x      x  x          x     x   \n",
       "60     o    o  o  ...          x             x      x  x          x     x   \n",
       "\n",
       "   FareBin Fare_Code                                         Vestparams Family  \n",
       "56       x         o  OrderedDict([('max_depth', 40), ('max_features...      o  \n",
       "57       x         x                                                  x      x  \n",
       "58       x         x  OrderedDict([('max_depth', 10), ('max_features...      x  \n",
       "59       x         x                                                  x      x  \n",
       "60       x         x                                                  x      x  \n",
       "\n",
       "[5 rows x 29 columns]"
      ]
     },
     "execution_count": 26,
     "metadata": {},
     "output_type": "execute_result"
    }
   ],
   "source": [
    "log.to_csv(PATH_LOG,index_label=False)\n",
    "log.tail()"
   ]
  },
  {
   "cell_type": "code",
   "execution_count": null,
   "metadata": {},
   "outputs": [],
   "source": []
  }
 ],
 "metadata": {
  "kernelspec": {
   "display_name": "Python 3.9.2 64-bit",
   "language": "python",
   "name": "python3"
  },
  "language_info": {
   "codemirror_mode": {
    "name": "ipython",
    "version": 3
   },
   "file_extension": ".py",
   "mimetype": "text/x-python",
   "name": "python",
   "nbconvert_exporter": "python",
   "pygments_lexer": "ipython3",
   "version": "3.9.2"
  },
  "orig_nbformat": 4,
  "vscode": {
   "interpreter": {
    "hash": "68ea084522a32e1c5efebe8e26724b4feaefc93bc2807a5a214dcc5b0260bfd6"
   }
  }
 },
 "nbformat": 4,
 "nbformat_minor": 2
}
