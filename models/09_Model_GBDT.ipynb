{
 "cells": [
  {
   "cell_type": "code",
   "execution_count": 1,
   "metadata": {},
   "outputs": [
    {
     "name": "stdout",
     "output_type": "stream",
     "text": [
      "Python version: 3.9.2 (tags/v3.9.2:1a79785, Feb 19 2021, 13:44:55) [MSC v.1928 64 bit (AMD64)]\n",
      "pandas version: 1.3.2\n",
      "matplotlib version: 3.4.3\n",
      "NumPy version: 1.22.4\n",
      "SciPy version: 1.7.1\n",
      "IPython version: 7.26.0\n",
      "scikit-learn version: 0.24.2\n",
      "-------------------------\n"
     ]
    }
   ],
   "source": [
    "#load packages\n",
    "import sklearn  # collection of machine learning algorithms\n",
    "from IPython import display  # pretty printing of dataframes in Jupyter notebook\n",
    "# collection of functions for scientific computing and advance mathematics\n",
    "import scipy as sp\n",
    "import numpy as np  # foundational package for scientific computing\n",
    "# collection of functions for scientific and publication-ready visualization\n",
    "import matplotlib\n",
    "import pandas as pd  # collection of functions for data processing and analysis modeled after R dataframes with SQL like features\n",
    "from sklearn import metrics\n",
    "from sklearn import model_selection\n",
    "from sklearn import feature_selection\n",
    "from sklearn.preprocessing import LabelEncoder, OneHotEncoder, StandardScaler\n",
    "from sklearn import svm, tree, linear_model, neighbors, naive_bayes, ensemble, discriminant_analysis, gaussian_process\n",
    "import torch\n",
    "from torch.utils.data import DataLoader, TensorDataset\n",
    "from torch.autograd import Variable\n",
    "import torch.nn.functional as F\n",
    "import torch.nn as nn\n",
    "import torch.optim as optim\n",
    "import re as re\n",
    "import io\n",
    "import zipfile\n",
    "from sklearn.model_selection import train_test_split\n",
    "import requests\n",
    "from sklearn.metrics import roc_curve, auc,log_loss\n",
    "from sklearn.model_selection import StratifiedKFold, GridSearchCV\n",
    "from sklearn.ensemble import RandomForestClassifier\n",
    "import warnings\n",
    "import time\n",
    "import random\n",
    "import IPython\n",
    "import seaborn as sns\n",
    "from hyperopt import hp\n",
    "import xgboost as xgb\n",
    "from pandas import Series, DataFrame\n",
    "import sys  # access to system parameters https://docs.python.org/3/library/sys.html\n",
    "print(\"Python version: {}\". format(sys.version))\n",
    "\n",
    "print(\"pandas version: {}\". format(pd.__version__))\n",
    "\n",
    "print(\"matplotlib version: {}\". format(matplotlib.__version__))\n",
    "\n",
    "print(\"NumPy version: {}\". format(np.__version__))\n",
    "\n",
    "print(\"SciPy version: {}\". format(sp.__version__))\n",
    "\n",
    "print(\"IPython version: {}\". format(IPython.__version__))\n",
    "\n",
    "print(\"scikit-learn version: {}\". format(sklearn.__version__))\n",
    "\n",
    "#misc libraries\n",
    "\n",
    "\n",
    "#ignore warnings\n",
    "warnings.filterwarnings('ignore')\n",
    "print('-'*25)\n",
    "# データインポートライブラリ\n",
    "\n",
    "# データ加工・処理・分析ライブラリ\n",
    "\n",
    "\n",
    "# 可視化ライブラリ\n",
    "%matplotlib inline\n",
    "\n",
    "\n",
    "#Model\n",
    "%precision 3\n",
    "\n",
    "\n",
    "SEED = 42\n"
   ]
  },
  {
   "cell_type": "markdown",
   "metadata": {},
   "source": [
    "# GBDT"
   ]
  },
  {
   "cell_type": "markdown",
   "metadata": {},
   "source": []
  },
  {
   "cell_type": "code",
   "execution_count": 2,
   "metadata": {},
   "outputs": [],
   "source": [
    "GBDT_train = pd.read_csv(\"./df/EDA_09_GBDT_train.csv\")\n",
    "GBDT_test = pd.read_csv(\"./df/EDA_09_GBDT_test.csv\")\n",
    "Target = 'Perished'\n",
    "GBDT_test.shape\n",
    "data_cleaner = [GBDT_train, GBDT_test]"
   ]
  },
  {
   "cell_type": "code",
   "execution_count": 3,
   "metadata": {},
   "outputs": [
    {
     "data": {
      "text/plain": [
       "PassengerId        0\n",
       "Pclass             0\n",
       "Name               0\n",
       "Sex                0\n",
       "Age               86\n",
       "SibSp              0\n",
       "Parch              0\n",
       "Ticket             0\n",
       "Fare               1\n",
       "Cabin            327\n",
       "Embarked           0\n",
       "FamilySize         0\n",
       "IsAlone            0\n",
       "Title              0\n",
       "FareBin            1\n",
       "Sex_Code           0\n",
       "Embarked_Code      0\n",
       "Title_Code         0\n",
       "FareBin_Code       0\n",
       "AgeBin            86\n",
       "Age_Code           0\n",
       "dtype: int64"
      ]
     },
     "execution_count": 3,
     "metadata": {},
     "output_type": "execute_result"
    }
   ],
   "source": [
    "GBDT_test.isnull().sum()"
   ]
  },
  {
   "cell_type": "code",
   "execution_count": 4,
   "metadata": {},
   "outputs": [],
   "source": [
    "for dataset in data_cleaner:\n",
    "    dataset = dataset.drop(columns=[\"Name\", \"Sex\", \"Age\", \"IsAlone\", \"Ticket\", \"SibSp\", \"Parch\",\n",
    "                           \"FareBin_Code\", \"Cabin\", \"Embarked\", \"Title\", \"FareBin\", \"AgeBin\"], inplace=True)\n"
   ]
  },
  {
   "cell_type": "code",
   "execution_count": 6,
   "metadata": {},
   "outputs": [
    {
     "data": {
      "text/plain": [
       "Index(['PassengerId', 'Perished', 'Pclass', 'Fare', 'FamilySize', 'Sex_Code',\n",
       "       'Embarked_Code', 'Title_Code', 'Age_Code'],\n",
       "      dtype='object')"
      ]
     },
     "execution_count": 6,
     "metadata": {},
     "output_type": "execute_result"
    }
   ],
   "source": [
    "GBDT_train.columns"
   ]
  },
  {
   "cell_type": "code",
   "execution_count": 11,
   "metadata": {},
   "outputs": [],
   "source": [
    "USE_Columns = GBDT_train.columns\n",
    "X = GBDT_train.iloc[:,2:].values\n",
    "y = GBDT_train.iloc[:,1].values\n",
    "X_test = GBDT_test.iloc[:,1:].values\n",
    "# print('X_train shape: {}'.format(GBDT_X.shape))\n",
    "# print('y_train shape: {}'.format(GBDT_y.shape))\n",
    "# print('X_test shape: {}'.format(GBDT_X_test.shape))\n"
   ]
  },
  {
   "cell_type": "code",
   "execution_count": 12,
   "metadata": {},
   "outputs": [],
   "source": [
    "X_train, X_valid, y_train, y_valid = train_test_split(\n",
    "    X, y, test_size=0.5, random_state=SEED)\n"
   ]
  },
  {
   "cell_type": "code",
   "execution_count": 16,
   "metadata": {},
   "outputs": [],
   "source": [
    "#Model1 XGBoost\n",
    "'''\n",
    "Note\n",
    "- Tuning はhyperoptで\n",
    "- 決定木の数は十分大きくしてearly_stoppingにより抑制\n",
    "- learning rate(eta)は学習時に0.1，提出時により小さくする．\n",
    "- Turing時のKFoldはCrossValidateionにより1に，実際のモデル作成時にはSEEDにより分割\n",
    "- uniform は一様分布から抽出する．\n",
    "- quniformは一様分布から一定の間隔ごとに抽出する．\n",
    "- logunigoromは対数が一様分布に従う分布から抽出する．\n",
    "\n",
    "\n",
    "'''\n",
    "params = {\n",
    "    'booster':'gbtree',\n",
    "    'objective':'binary:logistic',\n",
    "    'eta':0.1,\n",
    "    'gamma':0.0,\n",
    "    'alpha':0.0,\n",
    "    'lambda':1.0,\n",
    "    'min_child_weight':1,\n",
    "    'max_depth':5,\n",
    "    'subsample':0.8,\n",
    "    'colsample_bytree':0.8,\n",
    "    'random_state':SEED\n",
    "}\n",
    "param_space = {\n",
    "    'min_child_weight':hp.loguniform('min_child_weight',np.log(0.1),np.log(10)),\n",
    "    'max_depth':hp.quniform('max_depth',3,9,1),\n",
    "    'subsample':hp.quniform('subsample',0.6,0.95,0.05),\n",
    "    'colsample_bytree':hp.quniform('colsample_bytree',0.6,0.95,0.05),\n",
    "    'gamma':hp.loguniform('gamma',np.log(1e-8),np.log(1.0)),\n",
    "    #余裕があれば\n",
    "    # 'alpha':hp.loguniform('alpha',np.log(1e-8),np.log(1.0)),\n",
    "    # 'lambda': hp.loguniform('alpha', np.log(1e-8), np.log(1.0)),\n",
    "\n",
    "}\n",
    "# XGBoodt 特徴量選択\n",
    "dtrain = xgb.DMatrix(X_train, label=y_train)\n",
    "dvalid = xgb.DMatrix(X_valid,label= y_valid)\n",
    "dtest = xgb.DMatrix(X_test)\n",
    "watchlist = [(dtrain,'train'),(dvalid,'eval')]\n",
    "num_round = 50\n",
    "\n"
   ]
  },
  {
   "cell_type": "code",
   "execution_count": null,
   "metadata": {},
   "outputs": [],
   "source": [
    "def score(params):\n",
    "    "
   ]
  },
  {
   "cell_type": "code",
   "execution_count": 14,
   "metadata": {},
   "outputs": [
    {
     "name": "stdout",
     "output_type": "stream",
     "text": [
      "0.43366320370675604\n"
     ]
    }
   ],
   "source": [
    "model = xgb.train(params, dtrain, num_round, evals=watchlist)\n",
    "va_pred = model.predict(dvalid)\n",
    "score = log_loss(y_valid,va_pred)\n",
    "print(score)\n"
   ]
  },
  {
   "cell_type": "code",
   "execution_count": 15,
   "metadata": {},
   "outputs": [
    {
     "data": {
      "text/plain": [
       "array([0.24 , 0.869, 0.776, 0.059, 0.287, 0.038, 0.194, 0.837, 0.173,\n",
       "       0.051, 0.676, 0.957, 0.918, 0.679, 0.875, 0.059, 0.676, 0.342,\n",
       "       0.687, 0.807, 0.878, 0.524, 0.652, 0.938, 0.936, 0.848, 0.407,\n",
       "       0.83 , 0.848, 0.6  , 0.905, 0.286, 0.697, 0.45 , 0.937, 0.804,\n",
       "       0.731, 0.194, 0.034, 0.925, 0.889, 0.951, 0.956, 0.895, 0.481,\n",
       "       0.937, 0.937, 0.938, 0.933, 0.539, 0.174, 0.076, 0.94 , 0.489,\n",
       "       0.9  , 0.089, 0.869, 0.06 , 0.044, 0.385, 0.854, 0.06 , 0.057,\n",
       "       0.662, 0.895, 0.044, 0.852, 0.858, 0.559, 0.039, 0.078, 0.195,\n",
       "       0.469, 0.051, 0.889, 0.923, 0.154, 0.044, 0.038, 0.366, 0.949,\n",
       "       0.038, 0.072, 0.907, 0.624, 0.633, 0.041, 0.021, 0.664, 0.936,\n",
       "       0.201, 0.853, 0.779, 0.914, 0.925, 0.851, 0.849, 0.957, 0.04 ,\n",
       "       0.878, 0.644, 0.968, 0.047, 0.968, 0.932, 0.861, 0.061, 0.796,\n",
       "       0.933, 0.669, 0.054, 0.884, 0.05 , 0.539, 0.598, 0.938, 0.617,\n",
       "       0.761, 0.074, 0.806, 0.845, 0.032, 0.04 , 0.286, 0.869, 0.573,\n",
       "       0.042, 0.576, 0.512, 0.937, 0.354, 0.24 , 0.966, 0.381, 0.323,\n",
       "       0.474, 0.047, 0.816, 0.94 , 0.288, 0.941, 0.055, 0.83 , 0.924,\n",
       "       0.472, 0.068, 0.83 , 0.905, 0.083, 0.957, 0.886, 0.869, 0.826,\n",
       "       0.411, 0.956, 0.967, 0.821, 0.328, 0.055, 0.144, 0.721, 0.58 ,\n",
       "       0.875, 0.053, 0.941, 0.393, 0.462, 0.054, 0.905, 0.968, 0.448,\n",
       "       0.047, 0.539, 0.207, 0.947, 0.856, 0.745, 0.053, 0.588, 0.655,\n",
       "       0.838, 0.722, 0.888, 0.853, 0.387, 0.173, 0.843, 0.925, 0.822,\n",
       "       0.04 , 0.914, 0.837, 0.947, 0.933, 0.055, 0.038, 0.064, 0.83 ,\n",
       "       0.03 , 0.853, 0.968, 0.812, 0.065, 0.745, 0.632, 0.139, 0.933,\n",
       "       0.767, 0.895, 0.957, 0.339, 0.869, 0.037, 0.914, 0.918, 0.711,\n",
       "       0.061, 0.393, 0.057, 0.936, 0.925, 0.038, 0.811, 0.709, 0.933,\n",
       "       0.082, 0.884, 0.553, 0.057, 0.546, 0.895, 0.195, 0.895, 0.204,\n",
       "       0.958, 0.588, 0.038, 0.833, 0.064, 0.759, 0.947, 0.055, 0.856,\n",
       "       0.792, 0.948, 0.933, 0.956, 0.905, 0.884, 0.169, 0.349, 0.912,\n",
       "       0.895, 0.632, 0.698, 0.933, 0.937, 0.038, 0.905, 0.057, 0.138,\n",
       "       0.493, 0.038, 0.936, 0.919, 0.539, 0.941, 0.524, 0.55 , 0.925,\n",
       "       0.551, 0.889, 0.895, 0.615, 0.072, 0.932, 0.941, 0.848, 0.072,\n",
       "       0.875, 0.944, 0.947, 0.051, 0.968, 0.69 , 0.915, 0.354, 0.898,\n",
       "       0.276, 0.295, 0.878, 0.9  , 0.182, 0.164, 0.776, 0.807, 0.891,\n",
       "       0.608, 0.804, 0.577, 0.34 , 0.443, 0.857, 0.869, 0.937, 0.321,\n",
       "       0.901, 0.556, 0.304, 0.83 , 0.832, 0.041, 0.874, 0.92 , 0.957,\n",
       "       0.053, 0.414, 0.079, 0.22 , 0.767, 0.822, 0.932, 0.636, 0.826,\n",
       "       0.049, 0.546, 0.851, 0.194, 0.874, 0.895, 0.679, 0.559, 0.287,\n",
       "       0.83 , 0.898, 0.754, 0.037, 0.04 , 0.78 , 0.935, 0.811, 0.937,\n",
       "       0.728, 0.956, 0.886, 0.925, 0.023, 0.878, 0.669, 0.821, 0.023,\n",
       "       0.774, 0.857, 0.879, 0.828, 0.941, 0.722, 0.905, 0.856, 0.707,\n",
       "       0.855, 0.038, 0.173, 0.804, 0.599, 0.194, 0.636, 0.922, 0.932,\n",
       "       0.544, 0.041, 0.568, 0.895, 0.915, 0.845, 0.94 , 0.031, 0.402,\n",
       "       0.068, 0.819, 0.026, 0.806, 0.065, 0.039, 0.851, 0.782, 0.83 ,\n",
       "       0.633, 0.933, 0.16 , 0.036, 0.174, 0.038, 0.093, 0.045, 0.036,\n",
       "       0.838, 0.925, 0.875, 0.045, 0.028, 0.964, 0.05 , 0.895, 0.077,\n",
       "       0.226, 0.049, 0.957, 0.078, 0.554, 0.819, 0.941, 0.07 , 0.057,\n",
       "       0.841, 0.613, 0.034, 0.83 , 0.925, 0.483, 0.068, 0.807, 0.276,\n",
       "       0.889, 0.878, 0.849, 0.065, 0.838, 0.069, 0.065, 0.377, 0.662,\n",
       "       0.595, 0.886, 0.547, 0.936, 0.862, 0.925, 0.968, 0.966, 0.731,\n",
       "       0.964, 0.863, 0.933, 0.644, 0.58 ], dtype=float32)"
      ]
     },
     "execution_count": 15,
     "metadata": {},
     "output_type": "execute_result"
    }
   ],
   "source": [
    "pred = model.predict(dvalid)\n",
    "pred"
   ]
  },
  {
   "cell_type": "code",
   "execution_count": 28,
   "metadata": {},
   "outputs": [
    {
     "name": "stdout",
     "output_type": "stream",
     "text": [
      "Submission Format:(418, 2) \n",
      "My Sumbisison Format:(418, 2)\n"
     ]
    },
    {
     "data": {
      "text/html": [
       "<div>\n",
       "<style scoped>\n",
       "    .dataframe tbody tr th:only-of-type {\n",
       "        vertical-align: middle;\n",
       "    }\n",
       "\n",
       "    .dataframe tbody tr th {\n",
       "        vertical-align: top;\n",
       "    }\n",
       "\n",
       "    .dataframe thead th {\n",
       "        text-align: right;\n",
       "    }\n",
       "</style>\n",
       "<table border=\"1\" class=\"dataframe\">\n",
       "  <thead>\n",
       "    <tr style=\"text-align: right;\">\n",
       "      <th></th>\n",
       "      <th>PassengerId</th>\n",
       "      <th>Perished</th>\n",
       "    </tr>\n",
       "  </thead>\n",
       "  <tbody>\n",
       "    <tr>\n",
       "      <th>0</th>\n",
       "      <td>892</td>\n",
       "      <td>1</td>\n",
       "    </tr>\n",
       "    <tr>\n",
       "      <th>1</th>\n",
       "      <td>893</td>\n",
       "      <td>1</td>\n",
       "    </tr>\n",
       "    <tr>\n",
       "      <th>2</th>\n",
       "      <td>894</td>\n",
       "      <td>1</td>\n",
       "    </tr>\n",
       "    <tr>\n",
       "      <th>3</th>\n",
       "      <td>895</td>\n",
       "      <td>1</td>\n",
       "    </tr>\n",
       "    <tr>\n",
       "      <th>4</th>\n",
       "      <td>896</td>\n",
       "      <td>1</td>\n",
       "    </tr>\n",
       "    <tr>\n",
       "      <th>5</th>\n",
       "      <td>897</td>\n",
       "      <td>1</td>\n",
       "    </tr>\n",
       "    <tr>\n",
       "      <th>6</th>\n",
       "      <td>898</td>\n",
       "      <td>1</td>\n",
       "    </tr>\n",
       "    <tr>\n",
       "      <th>7</th>\n",
       "      <td>899</td>\n",
       "      <td>0</td>\n",
       "    </tr>\n",
       "    <tr>\n",
       "      <th>8</th>\n",
       "      <td>900</td>\n",
       "      <td>1</td>\n",
       "    </tr>\n",
       "    <tr>\n",
       "      <th>9</th>\n",
       "      <td>901</td>\n",
       "      <td>0</td>\n",
       "    </tr>\n",
       "    <tr>\n",
       "      <th>10</th>\n",
       "      <td>902</td>\n",
       "      <td>1</td>\n",
       "    </tr>\n",
       "    <tr>\n",
       "      <th>11</th>\n",
       "      <td>903</td>\n",
       "      <td>1</td>\n",
       "    </tr>\n",
       "    <tr>\n",
       "      <th>12</th>\n",
       "      <td>904</td>\n",
       "      <td>0</td>\n",
       "    </tr>\n",
       "    <tr>\n",
       "      <th>13</th>\n",
       "      <td>905</td>\n",
       "      <td>1</td>\n",
       "    </tr>\n",
       "    <tr>\n",
       "      <th>14</th>\n",
       "      <td>906</td>\n",
       "      <td>0</td>\n",
       "    </tr>\n",
       "    <tr>\n",
       "      <th>15</th>\n",
       "      <td>907</td>\n",
       "      <td>0</td>\n",
       "    </tr>\n",
       "    <tr>\n",
       "      <th>16</th>\n",
       "      <td>908</td>\n",
       "      <td>1</td>\n",
       "    </tr>\n",
       "    <tr>\n",
       "      <th>17</th>\n",
       "      <td>909</td>\n",
       "      <td>0</td>\n",
       "    </tr>\n",
       "    <tr>\n",
       "      <th>18</th>\n",
       "      <td>910</td>\n",
       "      <td>1</td>\n",
       "    </tr>\n",
       "    <tr>\n",
       "      <th>19</th>\n",
       "      <td>911</td>\n",
       "      <td>1</td>\n",
       "    </tr>\n",
       "  </tbody>\n",
       "</table>\n",
       "</div>"
      ],
      "text/plain": [
       "    PassengerId  Perished\n",
       "0           892         1\n",
       "1           893         1\n",
       "2           894         1\n",
       "3           895         1\n",
       "4           896         1\n",
       "5           897         1\n",
       "6           898         1\n",
       "7           899         0\n",
       "8           900         1\n",
       "9           901         0\n",
       "10          902         1\n",
       "11          903         1\n",
       "12          904         0\n",
       "13          905         1\n",
       "14          906         0\n",
       "15          907         0\n",
       "16          908         1\n",
       "17          909         0\n",
       "18          910         1\n",
       "19          911         1"
      ]
     },
     "execution_count": 28,
     "metadata": {},
     "output_type": "execute_result"
    }
   ],
   "source": [
    "submission_ex = pd.read_csv(\"gender_submission.csv\")\n",
    "submission_df = pd.DataFrame(columns=['PassengerId', Target])\n",
    "submission_df['PassengerId'] = GBDT_test['PassengerId']\n",
    "submission_df[Target] = XGB_pred\n",
    "submission_df.reset_index(drop=True, inplace=True)\n",
    "submission_df.to_csv('sub/09_GBDT_submissions.csv', header=True, index=False)\n",
    "print(\"Submission Format:{} \".format(submission_ex.shape))\n",
    "print(\"My Sumbisison Format:{}\".format(submission_df.shape))\n",
    "submission_df.head(20)\n"
   ]
  },
  {
   "cell_type": "code",
   "execution_count": 20,
   "metadata": {},
   "outputs": [
    {
     "data": {
      "text/plain": [
       "0    344\n",
       "1     74\n",
       "Name: Perished, dtype: int64"
      ]
     },
     "execution_count": 20,
     "metadata": {},
     "output_type": "execute_result"
    }
   ],
   "source": [
    "submission_df[Target].value_counts()"
   ]
  },
  {
   "cell_type": "code",
   "execution_count": null,
   "metadata": {},
   "outputs": [],
   "source": []
  }
 ],
 "metadata": {
  "interpreter": {
   "hash": "68ea084522a32e1c5efebe8e26724b4feaefc93bc2807a5a214dcc5b0260bfd6"
  },
  "kernelspec": {
   "display_name": "Python 3.9.2 64-bit",
   "language": "python",
   "name": "python3"
  },
  "language_info": {
   "codemirror_mode": {
    "name": "ipython",
    "version": 3
   },
   "file_extension": ".py",
   "mimetype": "text/x-python",
   "name": "python",
   "nbconvert_exporter": "python",
   "pygments_lexer": "ipython3",
   "version": "3.9.2"
  },
  "orig_nbformat": 4
 },
 "nbformat": 4,
 "nbformat_minor": 2
}
